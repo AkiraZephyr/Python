{
 "cells": [
  {
   "cell_type": "code",
   "execution_count": 1,
   "id": "a8e84c9a",
   "metadata": {},
   "outputs": [],
   "source": [
    "import pandas as pd\n",
    "from mlxtend.frequent_patterns import apriori\n",
    "from mlxtend.frequent_patterns import association_rules"
   ]
  },
  {
   "cell_type": "code",
   "execution_count": 2,
   "id": "587b9073",
   "metadata": {},
   "outputs": [],
   "source": [
    "data = {'TID' : [1, 2, 3, 4, 5],\n",
    "        'Milk' : [1, 0, 1, 1, 0],\n",
    "        'Bread' : [1, 1, 0, 1, 1],\n",
    "        'Butter' : [0, 1, 1, 1, 0],\n",
    "        'Jam' : [1, 0, 0, 0, 1]}\n",
    "\n",
    "df = pd.DataFrame(data).set_index('TID')"
   ]
  },
  {
   "cell_type": "code",
   "execution_count": 3,
   "id": "1590000b",
   "metadata": {},
   "outputs": [
    {
     "name": "stdout",
     "output_type": "stream",
     "text": [
      "Transaction Data:\n",
      "     Milk  Bread  Butter  Jam\n",
      "TID                          \n",
      "1       1      1       0    1\n",
      "2       0      1       1    0\n",
      "3       1      0       1    0\n",
      "4       1      1       1    0\n",
      "5       0      1       0    1\n"
     ]
    }
   ],
   "source": [
    "print(\"Transaction Data:\")\n",
    "print(df)"
   ]
  },
  {
   "cell_type": "code",
   "execution_count": 4,
   "id": "f0b95401",
   "metadata": {},
   "outputs": [
    {
     "name": "stdout",
     "output_type": "stream",
     "text": [
      "\n",
      "Frequent Itemsets : \n",
      "   support         itemsets\n",
      "0      0.6           (Milk)\n",
      "1      0.8          (Bread)\n",
      "2      0.6         (Butter)\n",
      "3      0.4            (Jam)\n",
      "4      0.4    (Milk, Bread)\n",
      "5      0.4   (Butter, Milk)\n",
      "6      0.4  (Butter, Bread)\n",
      "7      0.4     (Jam, Bread)\n"
     ]
    },
    {
     "name": "stderr",
     "output_type": "stream",
     "text": [
      "c:\\Users\\Philip\\AppData\\Local\\Programs\\Python\\Python313\\Lib\\site-packages\\mlxtend\\frequent_patterns\\fpcommon.py:161: DeprecationWarning: DataFrames with non-bool types result in worse computationalperformance and their support might be discontinued in the future.Please use a DataFrame with bool type\n",
      "  warnings.warn(\n"
     ]
    }
   ],
   "source": [
    "min_support = 0.4\n",
    "\n",
    "frequent_itemsets = apriori(df, min_support=min_support, use_colnames=True)\n",
    "print(\"\\nFrequent Itemsets : \")\n",
    "print(frequent_itemsets)"
   ]
  },
  {
   "cell_type": "code",
   "execution_count": 5,
   "id": "5c2d83a4",
   "metadata": {},
   "outputs": [
    {
     "name": "stdout",
     "output_type": "stream",
     "text": [
      "\n",
      "Association Rules:\n",
      "  antecedents consequents  antecedent support  consequent support  support  \\\n",
      "0      (Milk)     (Bread)                 0.6                 0.8      0.4   \n",
      "1    (Butter)      (Milk)                 0.6                 0.6      0.4   \n",
      "2      (Milk)    (Butter)                 0.6                 0.6      0.4   \n",
      "3    (Butter)     (Bread)                 0.6                 0.8      0.4   \n",
      "4       (Jam)     (Bread)                 0.4                 0.8      0.4   \n",
      "\n",
      "   confidence      lift  representativity  leverage  conviction  \\\n",
      "0    0.666667  0.833333               1.0     -0.08         0.6   \n",
      "1    0.666667  1.111111               1.0      0.04         1.2   \n",
      "2    0.666667  1.111111               1.0      0.04         1.2   \n",
      "3    0.666667  0.833333               1.0     -0.08         0.6   \n",
      "4    1.000000  1.250000               1.0      0.08         inf   \n",
      "\n",
      "   zhangs_metric  jaccard  certainty  kulczynski  \n",
      "0      -0.333333      0.4  -0.666667    0.583333  \n",
      "1       0.250000      0.5   0.166667    0.666667  \n",
      "2       0.250000      0.5   0.166667    0.666667  \n",
      "3      -0.333333      0.4  -0.666667    0.583333  \n",
      "4       0.333333      0.5   1.000000    0.750000  \n"
     ]
    }
   ],
   "source": [
    "min_confidence = 0.6\n",
    "\n",
    "rules = association_rules(frequent_itemsets, metric = \"confidence\", min_threshold = min_confidence)\n",
    "print(\"\\nAssociation Rules:\")\n",
    "print(rules)"
   ]
  }
 ],
 "metadata": {
  "kernelspec": {
   "display_name": "Python 3",
   "language": "python",
   "name": "python3"
  },
  "language_info": {
   "codemirror_mode": {
    "name": "ipython",
    "version": 3
   },
   "file_extension": ".py",
   "mimetype": "text/x-python",
   "name": "python",
   "nbconvert_exporter": "python",
   "pygments_lexer": "ipython3",
   "version": "3.13.2"
  }
 },
 "nbformat": 4,
 "nbformat_minor": 5
}
