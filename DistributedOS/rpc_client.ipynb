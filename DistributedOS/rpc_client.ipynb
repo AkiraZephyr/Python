{
 "cells": [
  {
   "cell_type": "code",
   "execution_count": 2,
   "id": "46ddb7af",
   "metadata": {},
   "outputs": [
    {
     "name": "stdout",
     "output_type": "stream",
     "text": [
      "Result of remote addition: 20\n"
     ]
    }
   ],
   "source": [
    "# rpc_client.py\n",
    "import xmlrpc.client\n",
    "\n",
    "# Create server proxy\n",
    "proxy = xmlrpc.client.ServerProxy(\"http://localhost:8000/RPC2\")\n",
    "\n",
    "# Remote function call\n",
    "result = proxy.add(15, 5)\n",
    "print(f\"Result of remote addition: {result}\")\n"
   ]
  }
 ],
 "metadata": {
  "kernelspec": {
   "display_name": "Python 3",
   "language": "python",
   "name": "python3"
  },
  "language_info": {
   "codemirror_mode": {
    "name": "ipython",
    "version": 3
   },
   "file_extension": ".py",
   "mimetype": "text/x-python",
   "name": "python",
   "nbconvert_exporter": "python",
   "pygments_lexer": "ipython3",
   "version": "3.13.2"
  }
 },
 "nbformat": 4,
 "nbformat_minor": 5
}
