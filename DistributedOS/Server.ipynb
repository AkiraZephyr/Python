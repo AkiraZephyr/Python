{
 "cells": [
  {
   "cell_type": "code",
   "execution_count": null,
   "metadata": {},
   "outputs": [
    {
     "name": "stdout",
     "output_type": "stream",
     "text": [
      "Server created\n",
      "Waiting for connection...\n",
      "Connected to ('127.0.0.1', 51295)\n",
      "Received: b'Hi there, I am a client'\n"
     ]
    }
   ],
   "source": [
    "import socket\n",
    "\n",
    "s = socket.socket()\n",
    "print(\"Server created\")\n",
    "s.bind(('localhost', 9992))\n",
    "s.listen(3)\n",
    "print(\"Waiting for connection...\")\n",
    "c, addr = s.accept()\n",
    "print(f\"Connected to {addr}\")\n",
    "\n",
    "recvd_msg = c.recv(1024)\n",
    "print(f\"Received: {recvd_msg}\")\n",
    "\n",
    "c.close()\n",
    "s.close()\n"
   ]
  }
 ],
 "metadata": {
  "kernelspec": {
   "display_name": "Python 3",
   "language": "python",
   "name": "python3"
  },
  "language_info": {
   "codemirror_mode": {
    "name": "ipython",
    "version": 3
   },
   "file_extension": ".py",
   "mimetype": "text/x-python",
   "name": "python",
   "nbconvert_exporter": "python",
   "pygments_lexer": "ipython3",
   "version": "3.13.2"
  }
 },
 "nbformat": 4,
 "nbformat_minor": 2
}
