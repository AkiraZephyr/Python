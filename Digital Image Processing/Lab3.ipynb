{
 "cells": [
  {
   "cell_type": "code",
   "execution_count": null,
   "id": "a169d16c",
   "metadata": {},
   "outputs": [],
   "source": [
    "import cv2 \n",
    "import numpy as np \n",
    "img = cv2.imread(\"C:\\\\Academics\\\\Python\\\\Digital Image Processing\\\\ILena.jpg\", 0)"
   ]
  },
  {
   "cell_type": "code",
   "execution_count": null,
   "id": "8b0db05e",
   "metadata": {},
   "outputs": [],
   "source": [
    "resized = cv2.resize(img, (128, 128))"
   ]
  },
  {
   "cell_type": "code",
   "execution_count": null,
   "id": "dd8a99a8",
   "metadata": {},
   "outputs": [],
   "source": [
    "# Quantization (reduce gray levels) \n",
    "quantized = (img // 64) * 64"
   ]
  },
  {
   "cell_type": "code",
   "execution_count": null,
   "id": "a2093bb1",
   "metadata": {},
   "outputs": [],
   "source": [
    "cv2.imshow(\"Original\", img) \n",
    "cv2.imshow(\"Resized\", resized) \n",
    "cv2.imshow(\"Quantized\", quantized) \n",
    "cv2.waitKey(0) \n",
    "cv2.destroyAllWindows()"
   ]
  }
 ],
 "metadata": {
  "kernelspec": {
   "display_name": "Python 3",
   "language": "python",
   "name": "python3"
  },
  "language_info": {
   "codemirror_mode": {
    "name": "ipython",
    "version": 3
   },
   "file_extension": ".py",
   "mimetype": "text/x-python",
   "name": "python",
   "nbconvert_exporter": "python",
   "pygments_lexer": "ipython3",
   "version": "3.13.2"
  }
 },
 "nbformat": 4,
 "nbformat_minor": 5
}
